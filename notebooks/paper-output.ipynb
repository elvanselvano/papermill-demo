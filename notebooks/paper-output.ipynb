{
 "cells": [
  {
   "cell_type": "code",
   "execution_count": 1,
   "id": "303a6231-8102-4a2e-9f7b-595ea7515933",
   "metadata": {
    "execution": {
     "iopub.execute_input": "2022-03-17T19:48:58.186716Z",
     "iopub.status.busy": "2022-03-17T19:48:58.186297Z",
     "iopub.status.idle": "2022-03-17T19:48:58.196698Z",
     "shell.execute_reply": "2022-03-17T19:48:58.196184Z"
    },
    "papermill": {
     "duration": 0.024442,
     "end_time": "2022-03-17T19:48:58.198662",
     "exception": false,
     "start_time": "2022-03-17T19:48:58.174220",
     "status": "completed"
    },
    "tags": [
     "parameters"
    ]
   },
   "outputs": [],
   "source": [
    "# this cell is tagged parameters\n",
    "length:int = 5\n",
    "width:int = 10"
   ]
  },
  {
   "cell_type": "code",
   "execution_count": 2,
   "id": "9ba34b3f",
   "metadata": {
    "execution": {
     "iopub.execute_input": "2022-03-17T19:48:58.206519Z",
     "iopub.status.busy": "2022-03-17T19:48:58.206228Z",
     "iopub.status.idle": "2022-03-17T19:48:58.208737Z",
     "shell.execute_reply": "2022-03-17T19:48:58.208353Z"
    },
    "papermill": {
     "duration": 0.007384,
     "end_time": "2022-03-17T19:48:58.210231",
     "exception": false,
     "start_time": "2022-03-17T19:48:58.202847",
     "status": "completed"
    },
    "tags": [
     "injected-parameters"
    ]
   },
   "outputs": [],
   "source": [
    "# Parameters\n",
    "length = 5\n",
    "width = 4\n"
   ]
  },
  {
   "cell_type": "code",
   "execution_count": 3,
   "id": "bdfb7aa3",
   "metadata": {
    "execution": {
     "iopub.execute_input": "2022-03-17T19:48:58.216575Z",
     "iopub.status.busy": "2022-03-17T19:48:58.216252Z",
     "iopub.status.idle": "2022-03-17T19:48:58.219160Z",
     "shell.execute_reply": "2022-03-17T19:48:58.218810Z"
    },
    "papermill": {
     "duration": 0.007657,
     "end_time": "2022-03-17T19:48:58.220647",
     "exception": false,
     "start_time": "2022-03-17T19:48:58.212990",
     "status": "completed"
    },
    "tags": []
   },
   "outputs": [
    {
     "name": "stdout",
     "output_type": "stream",
     "text": [
      "20\n"
     ]
    }
   ],
   "source": [
    "print(length*width)"
   ]
  }
 ],
 "metadata": {
  "kernelspec": {
   "display_name": "Python 3.9.7 ('flight')",
   "language": "python",
   "name": "python397jvsc74a57bd0a67da982f30fd24d06ad74f91163da3508c8fc56f28075af0fcd33cc111f38d2"
  },
  "language_info": {
   "codemirror_mode": {
    "name": "ipython",
    "version": 3
   },
   "file_extension": ".py",
   "mimetype": "text/x-python",
   "name": "python",
   "nbconvert_exporter": "python",
   "pygments_lexer": "ipython3",
   "version": "3.9.7"
  },
  "papermill": {
   "default_parameters": {},
   "duration": 1.282826,
   "end_time": "2022-03-17T19:48:58.338524",
   "environment_variables": {},
   "exception": null,
   "input_path": "../notebooks/paper-input.ipynb",
   "output_path": "../notebooks/paper-output.ipynb",
   "parameters": {
    "length": 5,
    "width": 4
   },
   "start_time": "2022-03-17T19:48:57.055698",
   "version": "2.3.4"
  }
 },
 "nbformat": 4,
 "nbformat_minor": 5
}