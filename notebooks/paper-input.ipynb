{
 "cells": [
  {
   "cell_type": "code",
   "execution_count": 1,
   "id": "303a6231-8102-4a2e-9f7b-595ea7515933",
   "metadata": {
    "tags": [
     "parameters"
    ]
   },
   "outputs": [],
   "source": [
    "# this cell is tagged parameters\n",
    "length:int = 5\n",
    "width:int = 10"
   ]
  },
  {
   "cell_type": "code",
   "execution_count": null,
   "id": "bdfb7aa3",
   "metadata": {},
   "outputs": [],
   "source": [
    "print(length*width)"
   ]
  }
 ],
 "metadata": {
  "kernelspec": {
   "display_name": "Python 3.9.7 ('flight')",
   "language": "python",
   "name": "python397jvsc74a57bd0a67da982f30fd24d06ad74f91163da3508c8fc56f28075af0fcd33cc111f38d2"
  },
  "language_info": {
   "codemirror_mode": {
    "name": "ipython",
    "version": 3
   },
   "file_extension": ".py",
   "mimetype": "text/x-python",
   "name": "python",
   "nbconvert_exporter": "python",
   "pygments_lexer": "ipython3",
   "version": "3.9.7"
  }
 },
 "nbformat": 4,
 "nbformat_minor": 5
}
