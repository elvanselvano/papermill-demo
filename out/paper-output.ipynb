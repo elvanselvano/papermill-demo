{
 "cells": [
  {
   "cell_type": "code",
   "execution_count": 1,
   "id": "1ad9ffed",
   "metadata": {
    "execution": {
     "iopub.execute_input": "2022-04-04T03:10:13.030537Z",
     "iopub.status.busy": "2022-04-04T03:10:13.030297Z",
     "iopub.status.idle": "2022-04-04T03:10:13.036999Z",
     "shell.execute_reply": "2022-04-04T03:10:13.036651Z"
    },
    "papermill": {
     "duration": 0.013276,
     "end_time": "2022-04-04T03:10:13.038570",
     "exception": false,
     "start_time": "2022-04-04T03:10:13.025294",
     "status": "completed"
    },
    "tags": [
     "parameters"
    ]
   },
   "outputs": [],
   "source": [
    "# this cell is tagged parameters\n",
    "length:int = 1\n",
    "width:int = 1\n",
    "shape:str = 'rectangle'"
   ]
  },
  {
   "cell_type": "code",
   "execution_count": 2,
   "id": "69561da4",
   "metadata": {
    "execution": {
     "iopub.execute_input": "2022-04-04T03:10:13.044748Z",
     "iopub.status.busy": "2022-04-04T03:10:13.044594Z",
     "iopub.status.idle": "2022-04-04T03:10:13.046855Z",
     "shell.execute_reply": "2022-04-04T03:10:13.046329Z"
    },
    "papermill": {
     "duration": 0.006333,
     "end_time": "2022-04-04T03:10:13.048108",
     "exception": false,
     "start_time": "2022-04-04T03:10:13.041775",
     "status": "completed"
    },
    "tags": [
     "injected-parameters"
    ]
   },
   "outputs": [],
   "source": [
    "# Parameters\n",
    "length = 10\n",
    "width = 15\n",
    "shape = \"rectangle\"\n"
   ]
  },
  {
   "cell_type": "code",
   "execution_count": null,
   "id": "2196b1f6",
   "metadata": {
    "papermill": {
     "duration": 0.002014,
     "end_time": "2022-04-04T03:10:13.052515",
     "exception": false,
     "start_time": "2022-04-04T03:10:13.050501",
     "status": "completed"
    },
    "tags": [
     "parameters"
    ]
   },
   "outputs": [],
   "source": []
  }
 ],
 "metadata": {
  "kernelspec": {
   "display_name": "Python 3.9.7 ('base')",
   "language": "python",
   "name": "python397jvsc74a57bd034b7eb6b4fe341cce29e4a839b1101b9244f5e061b48dd6867f7cec0ae5ee51c"
  },
  "language_info": {
   "codemirror_mode": {
    "name": "ipython",
    "version": 3
   },
   "file_extension": ".py",
   "mimetype": "text/x-python",
   "name": "python",
   "nbconvert_exporter": "python",
   "pygments_lexer": "ipython3",
   "version": "3.9.7"
  },
  "papermill": {
   "default_parameters": {},
   "duration": 1.360242,
   "end_time": "2022-04-04T03:10:13.170855",
   "environment_variables": {},
   "exception": null,
   "input_path": "../template/paper-input.ipynb",
   "output_path": "../out/paper-output.ipynb",
   "parameters": {
    "length": 10,
    "shape": "rectangle",
    "width": 15
   },
   "start_time": "2022-04-04T03:10:11.810613",
   "version": "2.3.4"
  }
 },
 "nbformat": 4,
 "nbformat_minor": 5
}