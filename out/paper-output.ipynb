{
 "cells": [
  {
   "cell_type": "code",
   "execution_count": 1,
   "id": "ffc45868",
   "metadata": {
    "execution": {
     "iopub.execute_input": "2022-04-04T03:44:10.738009Z",
     "iopub.status.busy": "2022-04-04T03:44:10.737676Z",
     "iopub.status.idle": "2022-04-04T03:44:10.746319Z",
     "shell.execute_reply": "2022-04-04T03:44:10.745843Z"
    },
    "papermill": {
     "duration": 0.017256,
     "end_time": "2022-04-04T03:44:10.748398",
     "exception": false,
     "start_time": "2022-04-04T03:44:10.731142",
     "status": "completed"
    },
    "tags": [
     "parameters"
    ]
   },
   "outputs": [],
   "source": [
    "# this cell is tagged parameters\n",
    "length:int = 1\n",
    "width:int = 1\n",
    "shape:str = 'rectangle'"
   ]
  },
  {
   "cell_type": "code",
   "execution_count": 2,
   "id": "87bb8eb5",
   "metadata": {
    "execution": {
     "iopub.execute_input": "2022-04-04T03:44:10.756079Z",
     "iopub.status.busy": "2022-04-04T03:44:10.755870Z",
     "iopub.status.idle": "2022-04-04T03:44:10.758535Z",
     "shell.execute_reply": "2022-04-04T03:44:10.758125Z"
    },
    "papermill": {
     "duration": 0.007856,
     "end_time": "2022-04-04T03:44:10.759994",
     "exception": false,
     "start_time": "2022-04-04T03:44:10.752138",
     "status": "completed"
    },
    "tags": [
     "injected-parameters"
    ]
   },
   "outputs": [],
   "source": [
    "# Parameters\n",
    "length = 10\n",
    "width = 8\n",
    "shape = \"rectangle\"\n"
   ]
  },
  {
   "cell_type": "code",
   "execution_count": 3,
   "id": "829d34d5",
   "metadata": {
    "execution": {
     "iopub.execute_input": "2022-04-04T03:44:10.766145Z",
     "iopub.status.busy": "2022-04-04T03:44:10.765968Z",
     "iopub.status.idle": "2022-04-04T03:44:10.768714Z",
     "shell.execute_reply": "2022-04-04T03:44:10.768304Z"
    },
    "papermill": {
     "duration": 0.007414,
     "end_time": "2022-04-04T03:44:10.770050",
     "exception": false,
     "start_time": "2022-04-04T03:44:10.762636",
     "status": "completed"
    },
    "tags": [
     "parameters"
    ]
   },
   "outputs": [
    {
     "name": "stdout",
     "output_type": "stream",
     "text": [
      "80\n"
     ]
    }
   ],
   "source": [
    "print(length*width)"
   ]
  }
 ],
 "metadata": {
  "interpreter": {
   "hash": "34b7eb6b4fe341cce29e4a839b1101b9244f5e061b48dd6867f7cec0ae5ee51c"
  },
  "kernelspec": {
   "display_name": "Python 3.9.7 ('base')",
   "language": "python",
   "name": "python3"
  },
  "language_info": {
   "codemirror_mode": {
    "name": "ipython",
    "version": 3
   },
   "file_extension": ".py",
   "mimetype": "text/x-python",
   "name": "python",
   "nbconvert_exporter": "python",
   "pygments_lexer": "ipython3",
   "version": "3.9.7"
  },
  "papermill": {
   "default_parameters": {},
   "duration": 1.153055,
   "end_time": "2022-04-04T03:44:10.889073",
   "environment_variables": {},
   "exception": null,
   "input_path": "../template/paper-input.ipynb",
   "output_path": "../out/paper-output.ipynb",
   "parameters": {
    "length": 10,
    "shape": "rectangle",
    "width": 8
   },
   "start_time": "2022-04-04T03:44:09.736018",
   "version": "2.3.4"
  }
 },
 "nbformat": 4,
 "nbformat_minor": 5
}